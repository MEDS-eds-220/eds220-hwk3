{
 "cells": [
  {
   "cell_type": "code",
   "execution_count": null,
   "id": "26c7933e",
   "metadata": {
    "deletable": false,
    "editable": false
   },
   "outputs": [],
   "source": [
    "# Initialize Otter\n",
    "import otter\n",
    "grader = otter.Notebook(\"hwk3-task1-spills.ipynb\")"
   ]
  },
  {
   "cell_type": "markdown",
   "id": "55ca52de-ae75-4eb8-8900-fd13fcae6d50",
   "metadata": {},
   "source": [
    "# Task 1: Visualizing oil spills in NY State\n",
    "\n",
    "## Instructions\n",
    "\n",
    "- First, update the following cell to have a link to *your* Homework 2 GitHub repository:\n",
    "\n",
    "**UPDATE THIS LINK**\n",
    "https://github.com/MEDS-eds-220/eds220-hwk3\n",
    "\n",
    "\n",
    "- Review the [complete rubric for this task](https://docs.google.com/document/d/1x0BoU6IH4cnOR1-n7i9CYQ9wUC37yDpYlQ4j6rCfcsU/edit?tab=t.0) before starting.\n",
    "\n",
    "- **Meaningful commits should be made every time you finish a major step.** We'll check your repository and view the commit history.\n",
    "\n",
    "- Comment mindfully in a way that enriches your code. Comments should follow best practices.\n",
    "\n",
    "- **Do not update the top cell with the `otter` import**, this is used internally for grading.\n",
    "\n",
    "\n",
    "## About the data\n",
    "In this task you will use two datsets:\n",
    "\n",
    "### First dataset: oil spills data\n",
    "\n",
    "The first dataset contains information about [spilling incidents in the state of New York](https://data.ny.gov/Energy-Environment/Spill-Incidents/u44d-k5fk). \n",
    "The data portal has plenty of information. \n",
    "You will find extra information and metadata for this datset in the `NYSDEC_SpillIncidents_Overview.pdf` and `NYSDEC_SpillIncidents_DataDictionary.pdf` documents available at the portal.\n",
    "\n",
    "### Second dataset: TIGER shapefile\n",
    "\n",
    "The second dataset is the [the 2023 Counties (and equivalent) TIGER shapefile](https://www.census.gov/geographies/mapping-files/time-series/geo/tiger-line-file.2022.html#list-tab-790442341) from the Census Bureau. You can check the [metadata for all the TIGER shapefiles here](https://www.census.gov/programs-surveys/geography/technical-documentation/complete-technical-documentation/tiger-geo-line.html). "
   ]
  },
  {
   "cell_type": "markdown",
   "id": "121ce569-6c3f-4194-8bfe-a7cdf7b027bb",
   "metadata": {},
   "source": [
    "## 1. File management\n",
    "a. Create a `data/` directory inside your `eds220-hwk3` directory. If you download any data, it should be transferred into this folder. \n",
    "\n",
    "b. Add the `data/` directory to your `.gitignore` file and push your changes. This is IMPORTANT: the datasets we'll be working with are large and they will most likely jam your commit history if you try to push them."
   ]
  },
  {
   "cell_type": "markdown",
   "id": "ce87c58f-35a7-43f8-b1f2-0a4700123710",
   "metadata": {},
   "source": [
    "## 2. Datasets description\n",
    "- Read the metadata for both datsets and write a brief description about each one. Indicate the date sources and date of access."
   ]
  },
  {
   "cell_type": "markdown",
   "id": "d66e611d-597b-468c-906d-3edfa4497f2d",
   "metadata": {},
   "source": [
    "## 3. Import libraries"
   ]
  },
  {
   "cell_type": "code",
   "execution_count": null,
   "id": "16fe65f6-f1e9-4652-bc28-350b1a031ea2",
   "metadata": {
    "tags": []
   },
   "outputs": [],
   "source": [
    "import os\n",
    "import numpy as np\n",
    "import pandas as pd\n",
    "import matplotlib.pyplot as plt\n",
    "import geopandas as gpd"
   ]
  },
  {
   "cell_type": "markdown",
   "id": "794401cd-9420-49c3-ae80-3d72be3faaf8",
   "metadata": {},
   "source": [
    "## 4. Import data \n",
    "In the next cell:\n",
    "\n",
    "- Import the NY spills data as a variable named `spills`. \n",
    "- Import the US counties data as a variable named `counties`.\n",
    "\n",
    "If you are using file paths to access the data, these should be constructed using the `os` package."
   ]
  },
  {
   "cell_type": "code",
   "execution_count": null,
   "id": "373445ce-6f51-4fd2-a1dd-81258ce32c00",
   "metadata": {
    "tags": []
   },
   "outputs": [],
   "source": [
    "fp = ...\n",
    "spills = ...\n",
    "\n",
    "\n",
    "fp = ...\n",
    "counties = ..."
   ]
  },
  {
   "cell_type": "markdown",
   "id": "37c14a98-3e47-4fb7-ac59-5223ee3ab236",
   "metadata": {
    "deletable": false,
    "editable": false,
    "tags": []
   },
   "source": [
    "<!-- BEGIN QUESTION -->\n",
    "\n",
    "## 5. Prepare spills data\n",
    "\n",
    "This section refers to the `spills` dataframe. \n",
    "Check the outputs carefully, they will give you information you will need to use in the next exercises.\n",
    "\n",
    "### 5.A. Exploration\n",
    "\n",
    "In the next cells:\n",
    "\n",
    "a. Check the dataframe's head\n",
    "\n",
    "b. Check the data types of the columns\n",
    "\n",
    "c. Check the unique values in the `material_family` column\n",
    "\n",
    "d. Check the unique values in the `county` column\n",
    "\n",
    "e. Insert a markdown cell to explain what information you obtained from the preliminary exploration. Use complete sentences.\n",
    "\n",
    "You can add any other cells for preliminary data exploration."
   ]
  },
  {
   "cell_type": "code",
   "execution_count": null,
   "id": "a1372e16-d88b-46e9-8dbb-72ab908a0aef",
   "metadata": {
    "tags": []
   },
   "outputs": [],
   "source": [
    "#a. Check the dataframe's head"
   ]
  },
  {
   "cell_type": "code",
   "execution_count": null,
   "id": "6927f7b2-5aa0-47de-b7f0-6e5201592e0f",
   "metadata": {
    "tags": []
   },
   "outputs": [],
   "source": [
    "#b. Check the data types of the columns"
   ]
  },
  {
   "cell_type": "code",
   "execution_count": null,
   "id": "b9e94524-8079-49af-b92a-08b5b9979d1c",
   "metadata": {
    "tags": []
   },
   "outputs": [],
   "source": [
    "#c. Check the unique values in the `material_family` column"
   ]
  },
  {
   "cell_type": "code",
   "execution_count": null,
   "id": "8c6d23be-50fa-451e-a165-3048c443ddf3",
   "metadata": {
    "tags": []
   },
   "outputs": [],
   "source": [
    "#d. Check the unique values in the `county` column"
   ]
  },
  {
   "cell_type": "markdown",
   "id": "a81cb944",
   "metadata": {},
   "source": [
    "e. Type your answer here, replacing this text."
   ]
  },
  {
   "cell_type": "markdown",
   "id": "b2c6bc49-0a91-4b4e-afb3-6619810713b3",
   "metadata": {
    "deletable": false,
    "editable": false
   },
   "source": [
    "<!-- END QUESTION -->\n",
    "\n",
    "<!-- BEGIN QUESTION -->\n",
    "\n",
    "### 5.B. Cleaning\n",
    "a. Simplify column names as needed."
   ]
  },
  {
   "cell_type": "code",
   "execution_count": null,
   "id": "9decd312-0741-42d0-b8e4-62dd4731fa38",
   "metadata": {
    "tags": []
   },
   "outputs": [],
   "source": []
  },
  {
   "cell_type": "markdown",
   "id": "d537746d-85b3-49ff-8096-73bdc72724b8",
   "metadata": {
    "deletable": false,
    "editable": false
   },
   "source": [
    "<!-- END QUESTION -->\n",
    "\n",
    "<!-- BEGIN QUESTION -->\n",
    "\n",
    "b. Update column data types as needed *for this analysis*."
   ]
  },
  {
   "cell_type": "code",
   "execution_count": null,
   "id": "4e9066a3-97bc-4313-959e-26954e8fa742",
   "metadata": {
    "tags": []
   },
   "outputs": [],
   "source": []
  },
  {
   "cell_type": "markdown",
   "id": "b499531e-b9aa-4549-bcc4-c403f87c24eb",
   "metadata": {
    "deletable": false,
    "editable": false
   },
   "source": [
    "<!-- END QUESTION -->\n",
    "\n",
    "<!-- BEGIN QUESTION -->\n",
    "\n",
    "### 5.C. Data selection\n",
    "\n",
    "a. Select data about petroleum spills that took place between January 1st 2023, and October 31st (including both dates), 2023. Store it in a variable named `petr_23`. The data selection should occur in a single line. You may add cells as needed."
   ]
  },
  {
   "cell_type": "code",
   "execution_count": null,
   "id": "3cc1ce09-0e6b-483f-85ba-670e98d538ba",
   "metadata": {
    "tags": []
   },
   "outputs": [],
   "source": []
  },
  {
   "cell_type": "markdown",
   "id": "0e88a3e1-6606-46e1-bd53-3b7055f0c46a",
   "metadata": {
    "deletable": false,
    "editable": false
   },
   "source": [
    "<!-- END QUESTION -->\n",
    "\n",
    "<!-- BEGIN QUESTION -->\n",
    "\n",
    "b. Use `print()` and f-strings to print a message verifying that `petr_23` only has data for 2023 and from January through October.\n",
    "HINT: if you converted the `spill_date` column to datetime, you can use `petr_23.spill_date.dt.year.unique()`."
   ]
  },
  {
   "cell_type": "code",
   "execution_count": null,
   "id": "c007544c-02b6-4a21-91df-e73fd30dad13",
   "metadata": {
    "tags": []
   },
   "outputs": [],
   "source": []
  },
  {
   "cell_type": "markdown",
   "id": "8dc2e6be-9a41-45a3-afc6-6e7364765dd2",
   "metadata": {
    "deletable": false,
    "editable": false
   },
   "source": [
    "<!-- END QUESTION -->\n",
    "\n",
    "<!-- BEGIN QUESTION -->\n",
    "\n",
    "c. Write tests using `assert` to verify that `petr_23` only has data for petroleum spills."
   ]
  },
  {
   "cell_type": "code",
   "execution_count": null,
   "id": "58b6199d-a5ba-4d2b-949e-37c355411ea9",
   "metadata": {
    "tags": []
   },
   "outputs": [],
   "source": []
  },
  {
   "cell_type": "markdown",
   "id": "4d52d6d9-e745-43b4-9320-6f54aa03165d",
   "metadata": {
    "deletable": false,
    "editable": false
   },
   "source": [
    "<!-- END QUESTION -->\n",
    "\n",
    "### 5.D. Data aggregation\n",
    "\n",
    "Create new dataframe named `spills_per_county` with the number of petroleum spills per county from January to October 2023 (i.e. use the `petr_23` dataframe).\n",
    "\n",
    "The resulting `spills_per_county` dataframe must be as follows:\n",
    "\n",
    "- Index: integer numbers starting from 0\n",
    "- Two columns only.\n",
    "- Column one: county names, column name = `county`\n",
    "- Column two: number of petroleum spills per county in 2023, column name = `n_spills`\n",
    "\n",
    "You may add cells if needed."
   ]
  },
  {
   "cell_type": "code",
   "execution_count": null,
   "id": "77772dfa-2041-41d2-a3ec-89d1bfa7aaba",
   "metadata": {
    "tags": []
   },
   "outputs": [],
   "source": [
    "spills_per_county = ...\n",
    "spills_per_county = ..."
   ]
  },
  {
   "cell_type": "code",
   "execution_count": null,
   "id": "dd74663f",
   "metadata": {
    "deletable": false,
    "editable": false
   },
   "outputs": [],
   "source": [
    "grader.check(\"q5d\")"
   ]
  },
  {
   "cell_type": "markdown",
   "id": "4c6cf6e2-0da5-4b54-8531-3541c26a9bc4",
   "metadata": {
    "deletable": false,
    "editable": false
   },
   "source": [
    "<!-- BEGIN QUESTION -->\n",
    "\n",
    "## 6. Prepare counties data\n",
    "\n",
    "This section refers to the `counties` geo-dataframe. \n",
    "Check the outputs carefully, they will give you context about the next exercises.\n",
    "\n",
    "### 6.A. Exploration\n",
    "\n",
    "In the next cells:\n",
    "\n",
    "a. Check the geo-dataframe's head\n",
    "\n",
    "b. Check the data types of the columns\n",
    "\n",
    "c. Check the geo-dataframe's CRS\n",
    "\n",
    "d. Plot the geo-dataframe\n",
    "\n",
    "e. Use the next markdown cell to explain what information you obtained from the preliminary exploration. Use complete sentences.\n",
    "\n",
    "You can add any other cells of preliminary data exploration."
   ]
  },
  {
   "cell_type": "markdown",
   "id": "2f9e66e4",
   "metadata": {},
   "source": [
    "_Type your answer here, replacing this text._"
   ]
  },
  {
   "cell_type": "code",
   "execution_count": null,
   "id": "27dc492c-cfcb-4ca2-9800-dc49d59f6303",
   "metadata": {
    "tags": []
   },
   "outputs": [],
   "source": [
    "# a"
   ]
  },
  {
   "cell_type": "code",
   "execution_count": null,
   "id": "28b1a247-a02c-4540-b723-4d0ad4de44ff",
   "metadata": {
    "tags": []
   },
   "outputs": [],
   "source": [
    "# b"
   ]
  },
  {
   "cell_type": "code",
   "execution_count": null,
   "id": "369d00f3-ec96-468f-b51b-7a327fbaf6f0",
   "metadata": {
    "tags": []
   },
   "outputs": [],
   "source": [
    "# c"
   ]
  },
  {
   "cell_type": "code",
   "execution_count": null,
   "id": "048b6b9c-ca39-458d-9679-5c3e2be23a06",
   "metadata": {
    "tags": []
   },
   "outputs": [],
   "source": [
    "# d"
   ]
  },
  {
   "cell_type": "markdown",
   "id": "0011ec73-66a2-4608-b35d-540294b2e8ae",
   "metadata": {
    "deletable": false,
    "editable": false
   },
   "source": [
    "<!-- END QUESTION -->\n",
    "\n",
    "<!-- BEGIN QUESTION -->\n",
    "\n",
    "### 6.B. Cleaning\n",
    "\n",
    "Simplify column names as needed."
   ]
  },
  {
   "cell_type": "code",
   "execution_count": null,
   "id": "a81b2b6a-7b34-47b7-a144-3720ca724d0c",
   "metadata": {
    "tags": []
   },
   "outputs": [],
   "source": []
  },
  {
   "cell_type": "markdown",
   "id": "d8f1b402-e897-4a44-89c4-4f468ebb29d8",
   "metadata": {
    "deletable": false,
    "editable": false,
    "tags": []
   },
   "source": [
    "<!-- END QUESTION -->\n",
    "\n",
    "<!-- BEGIN QUESTION -->\n",
    "\n",
    "### 6.C. Data selection\n",
    "\n",
    "Select all the counties for the state of New York in a new variable `ny_counties` and plot them (you may need to look at the metadata)."
   ]
  },
  {
   "cell_type": "code",
   "execution_count": null,
   "id": "d716c9a6-e878-42fa-887d-8a58a5c1c52b",
   "metadata": {
    "tags": []
   },
   "outputs": [],
   "source": [
    "\n"
   ]
  },
  {
   "cell_type": "markdown",
   "id": "c98b8cd9-10e7-4b77-9d10-3ea592ee435d",
   "metadata": {
    "deletable": false,
    "editable": false,
    "tags": []
   },
   "source": [
    "<!-- END QUESTION -->\n",
    "\n",
    "<!-- BEGIN QUESTION -->\n",
    "\n",
    "## 7 Merging\n",
    "\n",
    "The goal of this section is to create a single dataframe with the number of spills per county and the corresponding geometries for each county.\n",
    "\n",
    "### 7.A. Explore data\n",
    "\n",
    "In the next cells:\n",
    "\n",
    "a. Print the names of counties in `ny_counties`, without repetition.\n"
   ]
  },
  {
   "cell_type": "code",
   "execution_count": null,
   "id": "884b84c7-b3e1-483e-b23f-ca2da9c5d8de",
   "metadata": {
    "tags": []
   },
   "outputs": [],
   "source": []
  },
  {
   "cell_type": "markdown",
   "id": "f7e03c08-5a13-4640-a593-d0923b6dca6c",
   "metadata": {
    "deletable": false,
    "editable": false
   },
   "source": [
    "<!-- END QUESTION -->\n",
    "\n",
    "<!-- BEGIN QUESTION -->\n",
    "\n",
    "b. Print the names of counties in `spills_per_county`, without repetition. Examine the differences in the outputs."
   ]
  },
  {
   "cell_type": "code",
   "execution_count": null,
   "id": "773f770a-1bb2-47c9-89d5-01da805e44b8",
   "metadata": {
    "tags": []
   },
   "outputs": [],
   "source": []
  },
  {
   "cell_type": "markdown",
   "id": "2470e949-548e-4a93-bf8e-34fe92aea86e",
   "metadata": {
    "deletable": false,
    "editable": false
   },
   "source": [
    "<!-- END QUESTION -->\n",
    "\n",
    "\n",
    "\n",
    "c. Which are the county names that are in `spills_per_county`, but not in `ny_counties`? Your answer should be a list of strings\n",
    "HINT: You can use the `numpy` function [`setdiff1d()`](https://numpy.org/doc/stable/reference/generated/numpy.setdiff1d.html), pay attention to the example in the documentation. Store your answer in the `diff_names` variable. \n"
   ]
  },
  {
   "cell_type": "code",
   "execution_count": null,
   "id": "cbb3c708-a2e7-4889-9772-d03576ca1854",
   "metadata": {
    "tags": []
   },
   "outputs": [],
   "source": [
    "diff_names_spills = ...\n",
    "diff_names_spills\n"
   ]
  },
  {
   "cell_type": "code",
   "execution_count": null,
   "id": "4313f6ac",
   "metadata": {
    "deletable": false,
    "editable": false
   },
   "outputs": [],
   "source": [
    "grader.check(\"7Ac\")"
   ]
  },
  {
   "cell_type": "markdown",
   "id": "939ea010-b96c-4758-ae22-59a37ef8235e",
   "metadata": {
    "deletable": false,
    "editable": false
   },
   "source": [
    "d. Which are the county names that are in `ny_counties`, but not in `spills_per_county`? Your answer should be a list of strings.\n"
   ]
  },
  {
   "cell_type": "code",
   "execution_count": null,
   "id": "412be384-32ed-4ea3-85d5-e327c80082e6",
   "metadata": {
    "tags": []
   },
   "outputs": [],
   "source": [
    "diff_names_ny = ...\n",
    "diff_names_ny"
   ]
  },
  {
   "cell_type": "code",
   "execution_count": null,
   "id": "e26940cd",
   "metadata": {
    "deletable": false,
    "editable": false
   },
   "outputs": [],
   "source": [
    "grader.check(\"7Ad\")"
   ]
  },
  {
   "cell_type": "markdown",
   "id": "d74aa374-2a75-4533-9361-e7b0922e3338",
   "metadata": {
    "deletable": false,
    "editable": false
   },
   "source": [
    "e. What is the number of spills in 'Tuscarora Indian Reservation'?\n"
   ]
  },
  {
   "cell_type": "code",
   "execution_count": null,
   "id": "68c2b14e-54c9-4fbe-a1e1-04dce281a288",
   "metadata": {
    "tags": []
   },
   "outputs": [],
   "source": [
    "# e. "
   ]
  },
  {
   "cell_type": "markdown",
   "id": "6809b468-9db8-4a90-be3b-e63c830ec2ba",
   "metadata": {
    "deletable": false,
    "editable": false
   },
   "source": [
    "### 7.B. Data updates\n",
    "\n",
    "In the next cell, update 'St Lawrence' to 'St. Lawrence' in `spills_per_county` data frame and Verify the update was successful.\n"
   ]
  },
  {
   "cell_type": "code",
   "execution_count": null,
   "id": "aa8c5815-5a87-445f-9670-e23821bf556a",
   "metadata": {
    "tags": []
   },
   "outputs": [],
   "source": []
  },
  {
   "cell_type": "markdown",
   "id": "71b06131-a825-4467-9bb2-37e0717936ef",
   "metadata": {
    "deletable": false,
    "editable": false
   },
   "source": [
    "### 7.C. Merge\n",
    "\n",
    "In the following cells:\n",
    "\n",
    "a. Use this cell to make any other updates needed for making an inner join of the `spills_per_county` and `ny_counties`. \n"
   ]
  },
  {
   "cell_type": "code",
   "execution_count": null,
   "id": "4453f90c-ea39-4c0b-b7ee-f800971d11f6",
   "metadata": {
    "tags": []
   },
   "outputs": [],
   "source": [
    "\n"
   ]
  },
  {
   "cell_type": "markdown",
   "id": "1ab61461-69c0-4bb8-b22d-84ed1ab93f00",
   "metadata": {
    "deletable": false,
    "editable": false
   },
   "source": [
    "b. Over-write `ny_counties` as the  inner join of the `spills_per_county` and `ny_counties` dataframes.\n"
   ]
  },
  {
   "cell_type": "code",
   "execution_count": null,
   "id": "3c203554-ead7-4bd1-974e-858da77ae4de",
   "metadata": {
    "tags": []
   },
   "outputs": [],
   "source": []
  },
  {
   "cell_type": "markdown",
   "id": "cb27288e-e39c-424a-a6d9-91246bc5ccb8",
   "metadata": {
    "deletable": false,
    "editable": false
   },
   "source": [
    "\n",
    "From our previous exploration we know that Tuscarora Indian Reservation will not be in the join. Tuscarora Indian Reservation is located within Niagara county. \n",
    "\n",
    "c. Since the Tuscarora Indian Reservation does not appear in the `ny_counties` dataframe, add one spill to Niagara county. We will add a note about this in our final map. Add the cells you need to make this update **and** verify that the dataframe was updated."
   ]
  },
  {
   "cell_type": "code",
   "execution_count": null,
   "id": "b134f8b7-4527-44b2-95f8-2e55880dd4f0",
   "metadata": {
    "tags": []
   },
   "outputs": [],
   "source": [
    "\n",
    "\n"
   ]
  },
  {
   "cell_type": "markdown",
   "id": "bb627bcd-bc7c-42f3-af22-dbbff5f70282",
   "metadata": {
    "deletable": false,
    "editable": false,
    "tags": []
   },
   "source": [
    "## 8. Map\n",
    "a. Create a choropleth map of the number of petroleum spills per county in the state of New York in 2023. \n",
    "Your map should be polished and have (at least) the following updates:\n",
    "- a legend indicating the number of spills\n",
    "- an updated color map\n",
    "- a title \n",
    "- no axis\n",
    "- an annotation with the data source (New York State Department of Environmental Conservation) and date of access\n",
    "\n"
   ]
  },
  {
   "cell_type": "code",
   "execution_count": null,
   "id": "d2c10689-da13-4d8e-aab1-493a69aca8ff",
   "metadata": {
    "tags": []
   },
   "outputs": [],
   "source": [
    "\n",
    "\n",
    "\n"
   ]
  },
  {
   "cell_type": "markdown",
   "id": "9dc7f849-0a6a-416c-a7f6-c9c162626a2b",
   "metadata": {},
   "source": [
    "b. Write a description of how the map was created, including key takeaways. If you need to do additional data analysis to include relevant information from the data, you may include additional cells here."
   ]
  },
  {
   "cell_type": "markdown",
   "id": "b3fe4d02-362d-4c05-ad09-2c034662e251",
   "metadata": {
    "tags": []
   },
   "source": [
    "*Your answer here.*"
   ]
  },
  {
   "cell_type": "markdown",
   "id": "4501e240-4902-4bb6-9962-cf3e5b858ba7",
   "metadata": {},
   "source": [
    "## Complete workflow\n",
    "\n",
    "**STILL WORKING ON THIS**\n",
    "\n",
    "Collect all the relevant code into a **new notebook** titled `hwk3-task1-spills-COMPLETE-YOURLASTNAME.ipynb`. This notebook should have two sections:the a single cell will have the end-to-end workflow: from importing libraries and loading the data, to producing the graph. The *only* ouput of this cell should be the graph you produced in the previous exercise. Further guidance on what to include in this final workflow is in the assignment rubric.\n",
    "\n",
    "\n",
    "\n",
    "**From last HW:**\n",
    "\n",
    "Collect all the relevant code into the first blank cell of the notebook titled \"COMPLETE WORKFLOW\". This single cell will have the end-to-end workflow: from importing libraries and loading the data, to producing the graph. The only ouput of this cell should be the graph you produced in the previous exercise. Further guidance on what to include in this final workflow is in the assignment rubric."
   ]
  },
  {
   "cell_type": "markdown",
   "id": "69d84ab9-0db5-438b-ab1c-d15591c22adc",
   "metadata": {},
   "source": [
    "##### Run the cell below to run all autograder tests. "
   ]
  },
  {
   "cell_type": "code",
   "execution_count": null,
   "id": "1526acdc-3e34-4b11-9b19-baec4c74b3d7",
   "metadata": {},
   "outputs": [],
   "source": [
    "grader.check_all()"
   ]
  }
 ],
 "metadata": {
  "kernelspec": {
   "display_name": "EDS220",
   "language": "python",
   "name": "eds220-env"
  },
  "language_info": {
   "codemirror_mode": {
    "name": "ipython",
    "version": 3
   },
   "file_extension": ".py",
   "mimetype": "text/x-python",
   "name": "python",
   "nbconvert_exporter": "python",
   "pygments_lexer": "ipython3",
   "version": "3.11.4"
  }
 },
 "nbformat": 4,
 "nbformat_minor": 5
}
